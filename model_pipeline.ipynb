{
  "nbformat": 4,
  "nbformat_minor": 0,
  "metadata": {
    "colab": {
      "name": "model_pipeline.ipynb",
      "provenance": [],
      "collapsed_sections": [],
      "mount_file_id": "1tj_d0_2VqcDDZkv_d0sjY0TRYaeabMJW",
      "authorship_tag": "ABX9TyNLTz7bQABXmzcU/n3Vt+ID",
      "include_colab_link": true
    },
    "kernelspec": {
      "name": "python3",
      "display_name": "Python 3"
    }
  },
  "cells": [
    {
      "cell_type": "markdown",
      "metadata": {
        "id": "view-in-github",
        "colab_type": "text"
      },
      "source": [
        "<a href=\"https://colab.research.google.com/github/KKhushhalR2405/Gender-Flask/blob/master/model_pipeline.ipynb\" target=\"_parent\"><img src=\"https://colab.research.google.com/assets/colab-badge.svg\" alt=\"Open In Colab\"/></a>"
      ]
    },
    {
      "cell_type": "code",
      "metadata": {
        "colab": {
          "base_uri": "https://localhost:8080/"
        },
        "id": "8mpERj5kkoux",
        "outputId": "04ed792d-d960-4cae-ba00-0318ccbe22ec"
      },
      "source": [
        "cd /content/drive/MyDrive/gender_flask\n"
      ],
      "execution_count": null,
      "outputs": [
        {
          "output_type": "stream",
          "text": [
            "/content/drive/MyDrive/gender_flask\n"
          ],
          "name": "stdout"
        }
      ]
    },
    {
      "cell_type": "code",
      "metadata": {
        "id": "k1JLHQbLnbU5"
      },
      "source": [
        "import numpy as np\n",
        "import pandas as pd\n",
        "import matplotlib.pyplot as plt\n",
        "from PIL import Image\n",
        "import sklearn\n",
        "import cv2\n",
        "import pickle\n",
        "%matplotlib inline"
      ],
      "execution_count": null,
      "outputs": []
    },
    {
      "cell_type": "code",
      "metadata": {
        "colab": {
          "base_uri": "https://localhost:8080/"
        },
        "id": "cr_l_Z52yNHf",
        "outputId": "c9276386-c45d-4ba2-93e9-f4466909df33"
      },
      "source": [
        "try:\n",
        "  haar = cv2.CascadeClassifier(\"./dataset/haarcascade_frontalface_default.xml\")\n",
        "  mean = pickle.load(open(\"./dataset/ppmean.pkl\",\"rb\"))\n",
        "  model_svm = pickle.load(open(\"/content/drive/MyDrive/gender_flask/dataset/finalmodel.pkl\",\"rb\"))\n",
        "  model_pca = pickle.load(open(\"/content/drive/MyDrive/gender_flask/dataset/pca50.pickle\",\"rb\"))\n",
        "  print(\"Model loaded successfully\")\n",
        "except:\n",
        "  print(\"Error loading the model files\")\n"
      ],
      "execution_count": null,
      "outputs": [
        {
          "output_type": "stream",
          "text": [
            "Model loaded successfully\n"
          ],
          "name": "stdout"
        }
      ]
    },
    {
      "cell_type": "code",
      "metadata": {
        "id": "M6v3xqGty_VN"
      },
      "source": [
        "test_data_path = \"/content/drive/MyDrive/gender_flask/image/test1.jpg\""
      ],
      "execution_count": null,
      "outputs": []
    },
    {
      "cell_type": "code",
      "metadata": {
        "id": "CWZNN2RhNKC3"
      },
      "source": [
        "return_gender = [\"Male\",\"Female\"]\n",
        "\n",
        "font = cv2.FONT_HERSHEY_SCRIPT_SIMPLEX"
      ],
      "execution_count": null,
      "outputs": []
    },
    {
      "cell_type": "code",
      "metadata": {
        "id": "XzNRGgz919sq"
      },
      "source": [
        "#read image\n",
        "img = plt.imread(test_data_path)\n",
        "#converting to grayscale\n",
        "color = \"bgr\"\n",
        "if color==\"bgr\":\n",
        "  gray = cv2.cvtColor(img,cv2.COLOR_BGR2GRAY)\n",
        "else:\n",
        "  gray = cv2.cvtColor(img,cv2.COLOR_RGB2GRAY)\n",
        "\n",
        "#crop the face\n",
        "faces = haar.detectMultiScale(gray,1.5,3)\n",
        "\n",
        "for x,y,w,h in faces:\n",
        "  cv2.rectangle(img,(x,y),(x+w,y+h),(0,200,0),2)\n",
        "  roi = gray[y:y+h,x:x+w]\n",
        "  roi = roi/255.00\n",
        "  \n",
        "  roi_resize = cv2.resize(roi,(100,100)) # resize to 100x100\n",
        "\n",
        "  roi_reshape = roi_resize.reshape(1,-1)   #(1,10000)  flatten\n",
        "\n",
        "  roi_mean = roi_reshape - mean\n",
        "\n",
        "  eigen_image = model_pca.transform(roi_mean)  #eigen image\n",
        "\n",
        "  results = model_svm.predict(eigen_image)\n",
        "  print(results)\n",
        "\n",
        "  predict = results[0]\n",
        "\n",
        "  \n",
        "\n",
        "  #score = results[predict]\n",
        "\n",
        "  text = \"{}\".format(return_gender[predict])\n",
        "\n",
        "  cv2.putText(img,text,(x,y),font,1,(0,255,0),1)\n",
        "\n",
        "plt.imshow(img)"
      ],
      "execution_count": null,
      "outputs": []
    },
    {
      "cell_type": "code",
      "metadata": {
        "id": "xlSnFp3q22FK"
      },
      "source": [
        " "
      ],
      "execution_count": null,
      "outputs": []
    },
    {
      "cell_type": "code",
      "metadata": {
        "id": "JUBoJVXFIZ4E"
      },
      "source": [
        ""
      ],
      "execution_count": null,
      "outputs": []
    }
  ]
}