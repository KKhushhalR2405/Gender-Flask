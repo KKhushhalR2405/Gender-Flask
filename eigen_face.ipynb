{
  "nbformat": 4,
  "nbformat_minor": 0,
  "metadata": {
    "colab": {
      "name": "eigen_face.ipynb",
      "provenance": [],
      "collapsed_sections": [],
      "mount_file_id": "1RNeXDjaliK61Jlq-KMsKGNrUUG79OuE0",
      "authorship_tag": "ABX9TyNR+Ff8Y9Dv2sBqyH3QUbZp",
      "include_colab_link": true
    },
    "kernelspec": {
      "name": "python3",
      "display_name": "Python 3"
    }
  },
  "cells": [
    {
      "cell_type": "markdown",
      "metadata": {
        "id": "view-in-github",
        "colab_type": "text"
      },
      "source": [
        "<a href=\"https://colab.research.google.com/github/KKhushhalR2405/Gender-Flask/blob/master/eigen_face.ipynb\" target=\"_parent\"><img src=\"https://colab.research.google.com/assets/colab-badge.svg\" alt=\"Open In Colab\"/></a>"
      ]
    },
    {
      "cell_type": "code",
      "metadata": {
        "id": "c4OiRolwg7PE"
      },
      "source": [
        "import numpy as np\n",
        "import pandas as pd\n",
        "import matplotlib.pyplot as plt\n",
        "import cv2\n",
        "import PIL \n"
      ],
      "execution_count": null,
      "outputs": []
    },
    {
      "cell_type": "code",
      "metadata": {
        "colab": {
          "base_uri": "https://localhost:8080/"
        },
        "id": "Pxv4XcNyhKBU",
        "outputId": "4834a4c4-91b4-4181-8fcc-00887e0c33f7"
      },
      "source": [
        "cd /content/drive/MyDrive/gender_flask"
      ],
      "execution_count": null,
      "outputs": [
        {
          "output_type": "stream",
          "text": [
            "/content/drive/MyDrive/gender_flask\n"
          ],
          "name": "stdout"
        }
      ]
    },
    {
      "cell_type": "code",
      "metadata": {
        "colab": {
          "base_uri": "https://localhost:8080/"
        },
        "id": "XAmyAPTPhZ43",
        "outputId": "753186cf-1b98-4803-96d1-307d0430460d"
      },
      "source": [
        "!ls"
      ],
      "execution_count": null,
      "outputs": [
        {
          "output_type": "stream",
          "text": [
            "dataset\n"
          ],
          "name": "stdout"
        }
      ]
    },
    {
      "cell_type": "code",
      "metadata": {
        "id": "JpbWKcYwhfA_"
      },
      "source": [
        "data = np.load(\"/content/drive/MyDrive/gender_flask/dataset/dataframe_norm.npz\")"
      ],
      "execution_count": null,
      "outputs": []
    },
    {
      "cell_type": "code",
      "metadata": {
        "id": "lphjReO0htA3"
      },
      "source": [
        "x = data[\"arr_0\"]\n",
        "y=data[\"arr_1\"]"
      ],
      "execution_count": null,
      "outputs": []
    },
    {
      "cell_type": "code",
      "metadata": {
        "colab": {
          "base_uri": "https://localhost:8080/"
        },
        "id": "Ok3Vxmz8mZDA",
        "outputId": "b8fa5dab-00c9-45b8-f7ef-23c26e81404c"
      },
      "source": [
        "x.shape , y.shape"
      ],
      "execution_count": null,
      "outputs": [
        {
          "output_type": "execute_result",
          "data": {
            "text/plain": [
              "((8889, 10000), (8889,))"
            ]
          },
          "metadata": {
            "tags": []
          },
          "execution_count": 6
        }
      ]
    },
    {
      "cell_type": "code",
      "metadata": {
        "id": "cg2N1lQimfG8"
      },
      "source": [
        "x1=x-x.mean(axis=0)"
      ],
      "execution_count": null,
      "outputs": []
    },
    {
      "cell_type": "code",
      "metadata": {
        "id": "xlugpL2omqdE"
      },
      "source": [
        "from sklearn.decomposition import PCA\n"
      ],
      "execution_count": null,
      "outputs": []
    },
    {
      "cell_type": "code",
      "metadata": {
        "id": "nNe5hE0Cm5Hk"
      },
      "source": [
        "pca = PCA(n_components=None,whiten=True,svd_solver=\"auto\")"
      ],
      "execution_count": null,
      "outputs": []
    },
    {
      "cell_type": "code",
      "metadata": {
        "id": "jAFdo6YPnRvI"
      },
      "source": [
        "x_pca = pca.fit_transform(x1)"
      ],
      "execution_count": null,
      "outputs": []
    },
    {
      "cell_type": "code",
      "metadata": {
        "id": "iWPcmQizp0Ij",
        "colab": {
          "base_uri": "https://localhost:8080/"
        },
        "outputId": "54615163-ac5e-4162-fc34-fbc402939263"
      },
      "source": [
        " x_pca.shape\n",
        " "
      ],
      "execution_count": null,
      "outputs": [
        {
          "output_type": "execute_result",
          "data": {
            "text/plain": [
              "(8889, 8889)"
            ]
          },
          "metadata": {
            "tags": []
          },
          "execution_count": 11
        }
      ]
    },
    {
      "cell_type": "code",
      "metadata": {
        "id": "ya-9-2vtyRxZ"
      },
      "source": [
        "eigen_ratio = pca.explained_variance_ratio_\n",
        "eigen_ratio_cum = np.cumsum(eigen_ratio)"
      ],
      "execution_count": null,
      "outputs": []
    },
    {
      "cell_type": "code",
      "metadata": {
        "colab": {
          "base_uri": "https://localhost:8080/",
          "height": 279
        },
        "id": "GOclgbMzy9Y9",
        "outputId": "04ce5ec1-3758-48de-8dfe-8bca4bf94e11"
      },
      "source": [
        "\n",
        "plt.figure(figsize=(10,4))\n",
        "plt.subplot(1,2,1)\n",
        "plt.xlabel(\"no of components\")\n",
        "plt.ylabel(\"variance\")\n",
        "plt.plot(eigen_ratio[:200],\"r>--\")\n",
        "plt.subplot(1,2,2)\n",
        "plt.xlabel(\"no of components\")\n",
        "plt.ylabel(\"cum_variance\")\n",
        "plt.plot(eigen_ratio_cum[:200],\"r>--\")\n",
        "plt.show()"
      ],
      "execution_count": null,
      "outputs": [
        {
          "output_type": "display_data",
          "data": {
            "image/png": "[encoded data removed]",
            "text/plain": [
              "<Figure size 720x288 with 2 Axes>"
            ]
          },
          "metadata": {
            "tags": [],
            "needs_background": "light"
          }
        }
      ]
    },
    {
      "cell_type": "code",
      "metadata": {
        "id": "K8UiSQgczLdm"
      },
      "source": [
        ""
      ],
      "execution_count": null,
      "outputs": []
    },
    {
      "cell_type": "markdown",
      "metadata": {
        "id": "k8afd-aW1x6k"
      },
      "source": [
        "Considering 50 components to get 80% variance."
      ]
    },
    {
      "cell_type": "code",
      "metadata": {
        "id": "4-0Mttbv1sKN"
      },
      "source": [
        "pca_50 = PCA(n_components=50,whiten=True,svd_solver=\"auto\")\n",
        "x_pca_50 = pca_50.fit_transform(x1)"
      ],
      "execution_count": null,
      "outputs": []
    },
    {
      "cell_type": "code",
      "metadata": {
        "id": "6CEi2vJc2Kuo"
      },
      "source": [
        "import pickle\n"
      ],
      "execution_count": null,
      "outputs": []
    },
    {
      "cell_type": "code",
      "metadata": {
        "id": "22VQIQv12Wsr"
      },
      "source": [
        "pickle.dump(pca_50,open(\"./dataset/pca50.pickle\",\"wb\"))"
      ],
      "execution_count": null,
      "outputs": []
    },
    {
      "cell_type": "code",
      "metadata": {
        "id": "Fcs2F6Br2r2V"
      },
      "source": [
        "#now using eigen images"
      ],
      "execution_count": null,
      "outputs": []
    },
    {
      "cell_type": "code",
      "metadata": {
        "id": "hNWbM9ti39bq"
      },
      "source": [
        "x_pca_inverse = pca_50.inverse_transform(x_pca_50)"
      ],
      "execution_count": null,
      "outputs": []
    },
    {
      "cell_type": "code",
      "metadata": {
        "colab": {
          "base_uri": "https://localhost:8080/"
        },
        "id": "ZSOPQk9A6B0L",
        "outputId": "7a0883b0-a6ad-43aa-e653-d970a312239a"
      },
      "source": [
        "x_pca_inverse.shape"
      ],
      "execution_count": null,
      "outputs": [
        {
          "output_type": "execute_result",
          "data": {
            "text/plain": [
              "(8889, 10000)"
            ]
          },
          "metadata": {
            "tags": []
          },
          "execution_count": 33
        }
      ]
    },
    {
      "cell_type": "code",
      "metadata": {
        "colab": {
          "base_uri": "https://localhost:8080/",
          "height": 285
        },
        "id": "InT00Zz36Dvi",
        "outputId": "03b5b546-9d22-4909-f974-7ebd305599f1"
      },
      "source": [
        "eigen_image = x_pca_inverse[0,:]\n",
        "eigen_image = eigen_image.reshape(100,100)\n",
        "plt.imshow(eigen_image,cmap=\"gray\")"
      ],
      "execution_count": null,
      "outputs": [
        {
          "output_type": "execute_result",
          "data": {
            "text/plain": [
              "<matplotlib.image.AxesImage at 0x7f212aaa8a90>"
            ]
          },
          "metadata": {
            "tags": []
          },
          "execution_count": 36
        },
        {
          "output_type": "display_data",
          "data": {
            "image/png": "[encoded data removed]",
            "text/plain": [
              "<Figure size 432x288 with 1 Axes>"
            ]
          },
          "metadata": {
            "tags": [],
            "needs_background": "light"
          }
        }
      ]
    },
    {
      "cell_type": "code",
      "metadata": {
        "id": "-uhGyXZJ6XHS"
      },
      "source": [
        "maindata = pd.read_pickle(\"/content/drive/MyDrive/gender_flask/dataset/image_dataframe.pkl\", compression='infer')"
      ],
      "execution_count": null,
      "outputs": []
    },
    {
      "cell_type": "code",
      "metadata": {
        "colab": {
          "base_uri": "https://localhost:8080/",
          "height": 439
        },
        "id": "U9vfEJum6zuh",
        "outputId": "d36224e6-673e-45fe-d5ef-975cfcebc5cd"
      },
      "source": [
        "pic = maindata[0]"
      ],
      "execution_count": null,
      "outputs": [
        {
          "output_type": "execute_result",
          "data": {
            "text/html": [
              "<div>\n",
              "<style scoped>\n",
              "    .dataframe tbody tr th:only-of-type {\n",
              "        vertical-align: middle;\n",
              "    }\n",
              "\n",
              "    .dataframe tbody tr th {\n",
              "        vertical-align: top;\n",
              "    }\n",
              "\n",
              "    .dataframe thead th {\n",
              "        text-align: right;\n",
              "    }\n",
              "</style>\n",
              "<table border=\"1\" class=\"dataframe\">\n",
              "  <thead>\n",
              "    <tr style=\"text-align: right;\">\n",
              "      <th></th>\n",
              "      <th>gender</th>\n",
              "      <th>0</th>\n",
              "      <th>1</th>\n",
              "      <th>2</th>\n",
              "      <th>3</th>\n",
              "      <th>4</th>\n",
              "      <th>5</th>\n",
              "      <th>6</th>\n",
              "      <th>7</th>\n",
              "      <th>8</th>\n",
              "      <th>9</th>\n",
              "      <th>10</th>\n",
              "      <th>11</th>\n",
              "      <th>12</th>\n",
              "      <th>13</th>\n",
              "      <th>14</th>\n",
              "      <th>15</th>\n",
              "      <th>16</th>\n",
              "      <th>17</th>\n",
              "      <th>18</th>\n",
              "      <th>19</th>\n",
              "      <th>20</th>\n",
              "      <th>21</th>\n",
              "      <th>22</th>\n",
              "      <th>23</th>\n",
              "      <th>24</th>\n",
              "      <th>25</th>\n",
              "      <th>26</th>\n",
              "      <th>27</th>\n",
              "      <th>28</th>\n",
              "      <th>29</th>\n",
              "      <th>30</th>\n",
              "      <th>31</th>\n",
              "      <th>32</th>\n",
              "      <th>33</th>\n",
              "      <th>34</th>\n",
              "      <th>35</th>\n",
              "      <th>36</th>\n",
              "      <th>37</th>\n",
              "      <th>38</th>\n",
              "      <th>...</th>\n",
              "      <th>9960</th>\n",
              "      <th>9961</th>\n",
              "      <th>9962</th>\n",
              "      <th>9963</th>\n",
              "      <th>9964</th>\n",
              "      <th>9965</th>\n",
              "      <th>9966</th>\n",
              "      <th>9967</th>\n",
              "      <th>9968</th>\n",
              "      <th>9969</th>\n",
              "      <th>9970</th>\n",
              "      <th>9971</th>\n",
              "      <th>9972</th>\n",
              "      <th>9973</th>\n",
              "      <th>9974</th>\n",
              "      <th>9975</th>\n",
              "      <th>9976</th>\n",
              "      <th>9977</th>\n",
              "      <th>9978</th>\n",
              "      <th>9979</th>\n",
              "      <th>9980</th>\n",
              "      <th>9981</th>\n",
              "      <th>9982</th>\n",
              "      <th>9983</th>\n",
              "      <th>9984</th>\n",
              "      <th>9985</th>\n",
              "      <th>9986</th>\n",
              "      <th>9987</th>\n",
              "      <th>9988</th>\n",
              "      <th>9989</th>\n",
              "      <th>9990</th>\n",
              "      <th>9991</th>\n",
              "      <th>9992</th>\n",
              "      <th>9993</th>\n",
              "      <th>9994</th>\n",
              "      <th>9995</th>\n",
              "      <th>9996</th>\n",
              "      <th>9997</th>\n",
              "      <th>9998</th>\n",
              "      <th>9999</th>\n",
              "    </tr>\n",
              "  </thead>\n",
              "  <tbody>\n",
              "    <tr>\n",
              "      <th>0</th>\n",
              "      <td>male</td>\n",
              "      <td>13</td>\n",
              "      <td>12</td>\n",
              "      <td>11</td>\n",
              "      <td>10</td>\n",
              "      <td>10</td>\n",
              "      <td>9</td>\n",
              "      <td>8</td>\n",
              "      <td>6</td>\n",
              "      <td>3</td>\n",
              "      <td>3</td>\n",
              "      <td>2</td>\n",
              "      <td>1</td>\n",
              "      <td>2</td>\n",
              "      <td>3</td>\n",
              "      <td>4</td>\n",
              "      <td>4</td>\n",
              "      <td>5</td>\n",
              "      <td>9</td>\n",
              "      <td>13</td>\n",
              "      <td>24</td>\n",
              "      <td>41</td>\n",
              "      <td>56</td>\n",
              "      <td>64</td>\n",
              "      <td>75</td>\n",
              "      <td>83</td>\n",
              "      <td>88</td>\n",
              "      <td>91</td>\n",
              "      <td>96</td>\n",
              "      <td>103</td>\n",
              "      <td>110</td>\n",
              "      <td>116</td>\n",
              "      <td>118</td>\n",
              "      <td>121</td>\n",
              "      <td>124</td>\n",
              "      <td>127</td>\n",
              "      <td>128</td>\n",
              "      <td>130</td>\n",
              "      <td>133</td>\n",
              "      <td>136</td>\n",
              "      <td>...</td>\n",
              "      <td>142</td>\n",
              "      <td>135</td>\n",
              "      <td>128</td>\n",
              "      <td>125</td>\n",
              "      <td>126</td>\n",
              "      <td>126</td>\n",
              "      <td>123</td>\n",
              "      <td>118</td>\n",
              "      <td>113</td>\n",
              "      <td>103</td>\n",
              "      <td>92</td>\n",
              "      <td>89</td>\n",
              "      <td>90</td>\n",
              "      <td>91</td>\n",
              "      <td>89</td>\n",
              "      <td>84</td>\n",
              "      <td>78</td>\n",
              "      <td>79</td>\n",
              "      <td>80</td>\n",
              "      <td>85</td>\n",
              "      <td>97</td>\n",
              "      <td>117</td>\n",
              "      <td>139</td>\n",
              "      <td>144</td>\n",
              "      <td>124</td>\n",
              "      <td>78</td>\n",
              "      <td>25</td>\n",
              "      <td>12</td>\n",
              "      <td>11</td>\n",
              "      <td>7</td>\n",
              "      <td>6</td>\n",
              "      <td>8</td>\n",
              "      <td>1</td>\n",
              "      <td>3</td>\n",
              "      <td>2</td>\n",
              "      <td>1</td>\n",
              "      <td>0</td>\n",
              "      <td>0</td>\n",
              "      <td>0</td>\n",
              "      <td>0</td>\n",
              "    </tr>\n",
              "    <tr>\n",
              "      <th>1</th>\n",
              "      <td>male</td>\n",
              "      <td>36</td>\n",
              "      <td>31</td>\n",
              "      <td>28</td>\n",
              "      <td>29</td>\n",
              "      <td>26</td>\n",
              "      <td>22</td>\n",
              "      <td>27</td>\n",
              "      <td>30</td>\n",
              "      <td>27</td>\n",
              "      <td>30</td>\n",
              "      <td>35</td>\n",
              "      <td>41</td>\n",
              "      <td>49</td>\n",
              "      <td>57</td>\n",
              "      <td>62</td>\n",
              "      <td>67</td>\n",
              "      <td>79</td>\n",
              "      <td>87</td>\n",
              "      <td>93</td>\n",
              "      <td>98</td>\n",
              "      <td>103</td>\n",
              "      <td>111</td>\n",
              "      <td>117</td>\n",
              "      <td>117</td>\n",
              "      <td>121</td>\n",
              "      <td>127</td>\n",
              "      <td>133</td>\n",
              "      <td>135</td>\n",
              "      <td>136</td>\n",
              "      <td>138</td>\n",
              "      <td>142</td>\n",
              "      <td>148</td>\n",
              "      <td>152</td>\n",
              "      <td>152</td>\n",
              "      <td>149</td>\n",
              "      <td>147</td>\n",
              "      <td>146</td>\n",
              "      <td>145</td>\n",
              "      <td>146</td>\n",
              "      <td>...</td>\n",
              "      <td>168</td>\n",
              "      <td>164</td>\n",
              "      <td>163</td>\n",
              "      <td>164</td>\n",
              "      <td>162</td>\n",
              "      <td>157</td>\n",
              "      <td>154</td>\n",
              "      <td>155</td>\n",
              "      <td>156</td>\n",
              "      <td>153</td>\n",
              "      <td>153</td>\n",
              "      <td>151</td>\n",
              "      <td>143</td>\n",
              "      <td>132</td>\n",
              "      <td>120</td>\n",
              "      <td>113</td>\n",
              "      <td>113</td>\n",
              "      <td>115</td>\n",
              "      <td>126</td>\n",
              "      <td>135</td>\n",
              "      <td>139</td>\n",
              "      <td>136</td>\n",
              "      <td>129</td>\n",
              "      <td>127</td>\n",
              "      <td>130</td>\n",
              "      <td>128</td>\n",
              "      <td>122</td>\n",
              "      <td>120</td>\n",
              "      <td>115</td>\n",
              "      <td>112</td>\n",
              "      <td>113</td>\n",
              "      <td>110</td>\n",
              "      <td>100</td>\n",
              "      <td>106</td>\n",
              "      <td>99</td>\n",
              "      <td>73</td>\n",
              "      <td>54</td>\n",
              "      <td>52</td>\n",
              "      <td>47</td>\n",
              "      <td>40</td>\n",
              "    </tr>\n",
              "    <tr>\n",
              "      <th>2</th>\n",
              "      <td>male</td>\n",
              "      <td>16</td>\n",
              "      <td>16</td>\n",
              "      <td>16</td>\n",
              "      <td>16</td>\n",
              "      <td>15</td>\n",
              "      <td>15</td>\n",
              "      <td>18</td>\n",
              "      <td>21</td>\n",
              "      <td>23</td>\n",
              "      <td>22</td>\n",
              "      <td>24</td>\n",
              "      <td>28</td>\n",
              "      <td>28</td>\n",
              "      <td>27</td>\n",
              "      <td>26</td>\n",
              "      <td>26</td>\n",
              "      <td>26</td>\n",
              "      <td>27</td>\n",
              "      <td>32</td>\n",
              "      <td>43</td>\n",
              "      <td>46</td>\n",
              "      <td>52</td>\n",
              "      <td>61</td>\n",
              "      <td>71</td>\n",
              "      <td>79</td>\n",
              "      <td>82</td>\n",
              "      <td>90</td>\n",
              "      <td>95</td>\n",
              "      <td>97</td>\n",
              "      <td>94</td>\n",
              "      <td>87</td>\n",
              "      <td>84</td>\n",
              "      <td>88</td>\n",
              "      <td>95</td>\n",
              "      <td>97</td>\n",
              "      <td>89</td>\n",
              "      <td>90</td>\n",
              "      <td>95</td>\n",
              "      <td>97</td>\n",
              "      <td>...</td>\n",
              "      <td>81</td>\n",
              "      <td>74</td>\n",
              "      <td>72</td>\n",
              "      <td>72</td>\n",
              "      <td>70</td>\n",
              "      <td>66</td>\n",
              "      <td>67</td>\n",
              "      <td>61</td>\n",
              "      <td>56</td>\n",
              "      <td>58</td>\n",
              "      <td>55</td>\n",
              "      <td>54</td>\n",
              "      <td>53</td>\n",
              "      <td>52</td>\n",
              "      <td>50</td>\n",
              "      <td>48</td>\n",
              "      <td>53</td>\n",
              "      <td>60</td>\n",
              "      <td>59</td>\n",
              "      <td>46</td>\n",
              "      <td>35</td>\n",
              "      <td>27</td>\n",
              "      <td>29</td>\n",
              "      <td>34</td>\n",
              "      <td>40</td>\n",
              "      <td>40</td>\n",
              "      <td>33</td>\n",
              "      <td>28</td>\n",
              "      <td>29</td>\n",
              "      <td>36</td>\n",
              "      <td>30</td>\n",
              "      <td>33</td>\n",
              "      <td>41</td>\n",
              "      <td>50</td>\n",
              "      <td>53</td>\n",
              "      <td>45</td>\n",
              "      <td>45</td>\n",
              "      <td>50</td>\n",
              "      <td>62</td>\n",
              "      <td>78</td>\n",
              "    </tr>\n",
              "    <tr>\n",
              "      <th>3</th>\n",
              "      <td>male</td>\n",
              "      <td>158</td>\n",
              "      <td>151</td>\n",
              "      <td>152</td>\n",
              "      <td>155</td>\n",
              "      <td>155</td>\n",
              "      <td>153</td>\n",
              "      <td>162</td>\n",
              "      <td>161</td>\n",
              "      <td>160</td>\n",
              "      <td>169</td>\n",
              "      <td>204</td>\n",
              "      <td>232</td>\n",
              "      <td>237</td>\n",
              "      <td>236</td>\n",
              "      <td>236</td>\n",
              "      <td>238</td>\n",
              "      <td>240</td>\n",
              "      <td>237</td>\n",
              "      <td>237</td>\n",
              "      <td>238</td>\n",
              "      <td>238</td>\n",
              "      <td>240</td>\n",
              "      <td>240</td>\n",
              "      <td>240</td>\n",
              "      <td>240</td>\n",
              "      <td>241</td>\n",
              "      <td>242</td>\n",
              "      <td>241</td>\n",
              "      <td>239</td>\n",
              "      <td>237</td>\n",
              "      <td>237</td>\n",
              "      <td>238</td>\n",
              "      <td>239</td>\n",
              "      <td>238</td>\n",
              "      <td>238</td>\n",
              "      <td>238</td>\n",
              "      <td>239</td>\n",
              "      <td>241</td>\n",
              "      <td>244</td>\n",
              "      <td>...</td>\n",
              "      <td>157</td>\n",
              "      <td>146</td>\n",
              "      <td>138</td>\n",
              "      <td>127</td>\n",
              "      <td>121</td>\n",
              "      <td>112</td>\n",
              "      <td>102</td>\n",
              "      <td>94</td>\n",
              "      <td>94</td>\n",
              "      <td>96</td>\n",
              "      <td>105</td>\n",
              "      <td>114</td>\n",
              "      <td>125</td>\n",
              "      <td>144</td>\n",
              "      <td>147</td>\n",
              "      <td>155</td>\n",
              "      <td>166</td>\n",
              "      <td>176</td>\n",
              "      <td>180</td>\n",
              "      <td>185</td>\n",
              "      <td>191</td>\n",
              "      <td>194</td>\n",
              "      <td>194</td>\n",
              "      <td>194</td>\n",
              "      <td>196</td>\n",
              "      <td>197</td>\n",
              "      <td>198</td>\n",
              "      <td>200</td>\n",
              "      <td>203</td>\n",
              "      <td>208</td>\n",
              "      <td>206</td>\n",
              "      <td>208</td>\n",
              "      <td>212</td>\n",
              "      <td>215</td>\n",
              "      <td>213</td>\n",
              "      <td>214</td>\n",
              "      <td>218</td>\n",
              "      <td>218</td>\n",
              "      <td>213</td>\n",
              "      <td>206</td>\n",
              "    </tr>\n",
              "    <tr>\n",
              "      <th>4</th>\n",
              "      <td>male</td>\n",
              "      <td>138</td>\n",
              "      <td>138</td>\n",
              "      <td>141</td>\n",
              "      <td>144</td>\n",
              "      <td>144</td>\n",
              "      <td>144</td>\n",
              "      <td>143</td>\n",
              "      <td>137</td>\n",
              "      <td>132</td>\n",
              "      <td>129</td>\n",
              "      <td>131</td>\n",
              "      <td>129</td>\n",
              "      <td>127</td>\n",
              "      <td>128</td>\n",
              "      <td>130</td>\n",
              "      <td>134</td>\n",
              "      <td>141</td>\n",
              "      <td>146</td>\n",
              "      <td>150</td>\n",
              "      <td>153</td>\n",
              "      <td>155</td>\n",
              "      <td>154</td>\n",
              "      <td>152</td>\n",
              "      <td>151</td>\n",
              "      <td>152</td>\n",
              "      <td>152</td>\n",
              "      <td>153</td>\n",
              "      <td>153</td>\n",
              "      <td>153</td>\n",
              "      <td>154</td>\n",
              "      <td>154</td>\n",
              "      <td>154</td>\n",
              "      <td>154</td>\n",
              "      <td>156</td>\n",
              "      <td>157</td>\n",
              "      <td>158</td>\n",
              "      <td>158</td>\n",
              "      <td>158</td>\n",
              "      <td>158</td>\n",
              "      <td>...</td>\n",
              "      <td>157</td>\n",
              "      <td>159</td>\n",
              "      <td>161</td>\n",
              "      <td>161</td>\n",
              "      <td>157</td>\n",
              "      <td>148</td>\n",
              "      <td>141</td>\n",
              "      <td>142</td>\n",
              "      <td>143</td>\n",
              "      <td>140</td>\n",
              "      <td>131</td>\n",
              "      <td>116</td>\n",
              "      <td>98</td>\n",
              "      <td>97</td>\n",
              "      <td>112</td>\n",
              "      <td>126</td>\n",
              "      <td>126</td>\n",
              "      <td>111</td>\n",
              "      <td>92</td>\n",
              "      <td>91</td>\n",
              "      <td>86</td>\n",
              "      <td>79</td>\n",
              "      <td>74</td>\n",
              "      <td>63</td>\n",
              "      <td>60</td>\n",
              "      <td>65</td>\n",
              "      <td>73</td>\n",
              "      <td>76</td>\n",
              "      <td>62</td>\n",
              "      <td>10</td>\n",
              "      <td>11</td>\n",
              "      <td>21</td>\n",
              "      <td>25</td>\n",
              "      <td>18</td>\n",
              "      <td>8</td>\n",
              "      <td>4</td>\n",
              "      <td>1</td>\n",
              "      <td>1</td>\n",
              "      <td>3</td>\n",
              "      <td>3</td>\n",
              "    </tr>\n",
              "    <tr>\n",
              "      <th>...</th>\n",
              "      <td>...</td>\n",
              "      <td>...</td>\n",
              "      <td>...</td>\n",
              "      <td>...</td>\n",
              "      <td>...</td>\n",
              "      <td>...</td>\n",
              "      <td>...</td>\n",
              "      <td>...</td>\n",
              "      <td>...</td>\n",
              "      <td>...</td>\n",
              "      <td>...</td>\n",
              "      <td>...</td>\n",
              "      <td>...</td>\n",
              "      <td>...</td>\n",
              "      <td>...</td>\n",
              "      <td>...</td>\n",
              "      <td>...</td>\n",
              "      <td>...</td>\n",
              "      <td>...</td>\n",
              "      <td>...</td>\n",
              "      <td>...</td>\n",
              "      <td>...</td>\n",
              "      <td>...</td>\n",
              "      <td>...</td>\n",
              "      <td>...</td>\n",
              "      <td>...</td>\n",
              "      <td>...</td>\n",
              "      <td>...</td>\n",
              "      <td>...</td>\n",
              "      <td>...</td>\n",
              "      <td>...</td>\n",
              "      <td>...</td>\n",
              "      <td>...</td>\n",
              "      <td>...</td>\n",
              "      <td>...</td>\n",
              "      <td>...</td>\n",
              "      <td>...</td>\n",
              "      <td>...</td>\n",
              "      <td>...</td>\n",
              "      <td>...</td>\n",
              "      <td>...</td>\n",
              "      <td>...</td>\n",
              "      <td>...</td>\n",
              "      <td>...</td>\n",
              "      <td>...</td>\n",
              "      <td>...</td>\n",
              "      <td>...</td>\n",
              "      <td>...</td>\n",
              "      <td>...</td>\n",
              "      <td>...</td>\n",
              "      <td>...</td>\n",
              "      <td>...</td>\n",
              "      <td>...</td>\n",
              "      <td>...</td>\n",
              "      <td>...</td>\n",
              "      <td>...</td>\n",
              "      <td>...</td>\n",
              "      <td>...</td>\n",
              "      <td>...</td>\n",
              "      <td>...</td>\n",
              "      <td>...</td>\n",
              "      <td>...</td>\n",
              "      <td>...</td>\n",
              "      <td>...</td>\n",
              "      <td>...</td>\n",
              "      <td>...</td>\n",
              "      <td>...</td>\n",
              "      <td>...</td>\n",
              "      <td>...</td>\n",
              "      <td>...</td>\n",
              "      <td>...</td>\n",
              "      <td>...</td>\n",
              "      <td>...</td>\n",
              "      <td>...</td>\n",
              "      <td>...</td>\n",
              "      <td>...</td>\n",
              "      <td>...</td>\n",
              "      <td>...</td>\n",
              "      <td>...</td>\n",
              "      <td>...</td>\n",
              "      <td>...</td>\n",
              "    </tr>\n",
              "    <tr>\n",
              "      <th>9398</th>\n",
              "      <td>female</td>\n",
              "      <td>103</td>\n",
              "      <td>100</td>\n",
              "      <td>105</td>\n",
              "      <td>117</td>\n",
              "      <td>130</td>\n",
              "      <td>138</td>\n",
              "      <td>123</td>\n",
              "      <td>106</td>\n",
              "      <td>105</td>\n",
              "      <td>115</td>\n",
              "      <td>123</td>\n",
              "      <td>122</td>\n",
              "      <td>123</td>\n",
              "      <td>122</td>\n",
              "      <td>112</td>\n",
              "      <td>106</td>\n",
              "      <td>120</td>\n",
              "      <td>156</td>\n",
              "      <td>173</td>\n",
              "      <td>174</td>\n",
              "      <td>176</td>\n",
              "      <td>180</td>\n",
              "      <td>174</td>\n",
              "      <td>147</td>\n",
              "      <td>130</td>\n",
              "      <td>148</td>\n",
              "      <td>162</td>\n",
              "      <td>164</td>\n",
              "      <td>161</td>\n",
              "      <td>173</td>\n",
              "      <td>174</td>\n",
              "      <td>172</td>\n",
              "      <td>174</td>\n",
              "      <td>177</td>\n",
              "      <td>176</td>\n",
              "      <td>175</td>\n",
              "      <td>173</td>\n",
              "      <td>175</td>\n",
              "      <td>175</td>\n",
              "      <td>...</td>\n",
              "      <td>164</td>\n",
              "      <td>159</td>\n",
              "      <td>151</td>\n",
              "      <td>144</td>\n",
              "      <td>143</td>\n",
              "      <td>140</td>\n",
              "      <td>132</td>\n",
              "      <td>124</td>\n",
              "      <td>113</td>\n",
              "      <td>97</td>\n",
              "      <td>82</td>\n",
              "      <td>78</td>\n",
              "      <td>89</td>\n",
              "      <td>101</td>\n",
              "      <td>114</td>\n",
              "      <td>129</td>\n",
              "      <td>137</td>\n",
              "      <td>137</td>\n",
              "      <td>128</td>\n",
              "      <td>120</td>\n",
              "      <td>118</td>\n",
              "      <td>119</td>\n",
              "      <td>113</td>\n",
              "      <td>98</td>\n",
              "      <td>92</td>\n",
              "      <td>100</td>\n",
              "      <td>110</td>\n",
              "      <td>113</td>\n",
              "      <td>123</td>\n",
              "      <td>133</td>\n",
              "      <td>137</td>\n",
              "      <td>134</td>\n",
              "      <td>130</td>\n",
              "      <td>138</td>\n",
              "      <td>159</td>\n",
              "      <td>166</td>\n",
              "      <td>162</td>\n",
              "      <td>154</td>\n",
              "      <td>143</td>\n",
              "      <td>124</td>\n",
              "    </tr>\n",
              "    <tr>\n",
              "      <th>9399</th>\n",
              "      <td>female</td>\n",
              "      <td>123</td>\n",
              "      <td>116</td>\n",
              "      <td>118</td>\n",
              "      <td>111</td>\n",
              "      <td>101</td>\n",
              "      <td>97</td>\n",
              "      <td>101</td>\n",
              "      <td>107</td>\n",
              "      <td>102</td>\n",
              "      <td>86</td>\n",
              "      <td>70</td>\n",
              "      <td>68</td>\n",
              "      <td>74</td>\n",
              "      <td>81</td>\n",
              "      <td>84</td>\n",
              "      <td>90</td>\n",
              "      <td>98</td>\n",
              "      <td>105</td>\n",
              "      <td>121</td>\n",
              "      <td>129</td>\n",
              "      <td>123</td>\n",
              "      <td>124</td>\n",
              "      <td>122</td>\n",
              "      <td>114</td>\n",
              "      <td>111</td>\n",
              "      <td>117</td>\n",
              "      <td>115</td>\n",
              "      <td>116</td>\n",
              "      <td>130</td>\n",
              "      <td>140</td>\n",
              "      <td>148</td>\n",
              "      <td>148</td>\n",
              "      <td>142</td>\n",
              "      <td>138</td>\n",
              "      <td>141</td>\n",
              "      <td>153</td>\n",
              "      <td>153</td>\n",
              "      <td>137</td>\n",
              "      <td>150</td>\n",
              "      <td>...</td>\n",
              "      <td>188</td>\n",
              "      <td>186</td>\n",
              "      <td>185</td>\n",
              "      <td>185</td>\n",
              "      <td>185</td>\n",
              "      <td>184</td>\n",
              "      <td>183</td>\n",
              "      <td>181</td>\n",
              "      <td>179</td>\n",
              "      <td>177</td>\n",
              "      <td>172</td>\n",
              "      <td>169</td>\n",
              "      <td>164</td>\n",
              "      <td>159</td>\n",
              "      <td>151</td>\n",
              "      <td>146</td>\n",
              "      <td>143</td>\n",
              "      <td>139</td>\n",
              "      <td>135</td>\n",
              "      <td>131</td>\n",
              "      <td>128</td>\n",
              "      <td>125</td>\n",
              "      <td>127</td>\n",
              "      <td>126</td>\n",
              "      <td>123</td>\n",
              "      <td>120</td>\n",
              "      <td>119</td>\n",
              "      <td>118</td>\n",
              "      <td>116</td>\n",
              "      <td>113</td>\n",
              "      <td>105</td>\n",
              "      <td>102</td>\n",
              "      <td>90</td>\n",
              "      <td>92</td>\n",
              "      <td>100</td>\n",
              "      <td>101</td>\n",
              "      <td>96</td>\n",
              "      <td>87</td>\n",
              "      <td>78</td>\n",
              "      <td>82</td>\n",
              "    </tr>\n",
              "    <tr>\n",
              "      <th>9400</th>\n",
              "      <td>female</td>\n",
              "      <td>3</td>\n",
              "      <td>17</td>\n",
              "      <td>29</td>\n",
              "      <td>21</td>\n",
              "      <td>25</td>\n",
              "      <td>26</td>\n",
              "      <td>29</td>\n",
              "      <td>53</td>\n",
              "      <td>50</td>\n",
              "      <td>62</td>\n",
              "      <td>32</td>\n",
              "      <td>37</td>\n",
              "      <td>38</td>\n",
              "      <td>52</td>\n",
              "      <td>54</td>\n",
              "      <td>49</td>\n",
              "      <td>48</td>\n",
              "      <td>41</td>\n",
              "      <td>28</td>\n",
              "      <td>36</td>\n",
              "      <td>31</td>\n",
              "      <td>61</td>\n",
              "      <td>90</td>\n",
              "      <td>96</td>\n",
              "      <td>98</td>\n",
              "      <td>98</td>\n",
              "      <td>86</td>\n",
              "      <td>68</td>\n",
              "      <td>72</td>\n",
              "      <td>74</td>\n",
              "      <td>90</td>\n",
              "      <td>97</td>\n",
              "      <td>98</td>\n",
              "      <td>94</td>\n",
              "      <td>99</td>\n",
              "      <td>110</td>\n",
              "      <td>115</td>\n",
              "      <td>108</td>\n",
              "      <td>110</td>\n",
              "      <td>...</td>\n",
              "      <td>139</td>\n",
              "      <td>136</td>\n",
              "      <td>137</td>\n",
              "      <td>132</td>\n",
              "      <td>129</td>\n",
              "      <td>128</td>\n",
              "      <td>124</td>\n",
              "      <td>116</td>\n",
              "      <td>109</td>\n",
              "      <td>99</td>\n",
              "      <td>84</td>\n",
              "      <td>66</td>\n",
              "      <td>39</td>\n",
              "      <td>31</td>\n",
              "      <td>33</td>\n",
              "      <td>35</td>\n",
              "      <td>38</td>\n",
              "      <td>49</td>\n",
              "      <td>73</td>\n",
              "      <td>94</td>\n",
              "      <td>116</td>\n",
              "      <td>196</td>\n",
              "      <td>196</td>\n",
              "      <td>179</td>\n",
              "      <td>149</td>\n",
              "      <td>151</td>\n",
              "      <td>181</td>\n",
              "      <td>184</td>\n",
              "      <td>167</td>\n",
              "      <td>165</td>\n",
              "      <td>135</td>\n",
              "      <td>140</td>\n",
              "      <td>139</td>\n",
              "      <td>130</td>\n",
              "      <td>147</td>\n",
              "      <td>160</td>\n",
              "      <td>168</td>\n",
              "      <td>197</td>\n",
              "      <td>215</td>\n",
              "      <td>234</td>\n",
              "    </tr>\n",
              "    <tr>\n",
              "      <th>9401</th>\n",
              "      <td>female</td>\n",
              "      <td>166</td>\n",
              "      <td>168</td>\n",
              "      <td>179</td>\n",
              "      <td>191</td>\n",
              "      <td>195</td>\n",
              "      <td>187</td>\n",
              "      <td>173</td>\n",
              "      <td>165</td>\n",
              "      <td>173</td>\n",
              "      <td>190</td>\n",
              "      <td>202</td>\n",
              "      <td>205</td>\n",
              "      <td>201</td>\n",
              "      <td>192</td>\n",
              "      <td>183</td>\n",
              "      <td>181</td>\n",
              "      <td>186</td>\n",
              "      <td>190</td>\n",
              "      <td>191</td>\n",
              "      <td>191</td>\n",
              "      <td>183</td>\n",
              "      <td>175</td>\n",
              "      <td>168</td>\n",
              "      <td>163</td>\n",
              "      <td>160</td>\n",
              "      <td>158</td>\n",
              "      <td>155</td>\n",
              "      <td>150</td>\n",
              "      <td>148</td>\n",
              "      <td>145</td>\n",
              "      <td>139</td>\n",
              "      <td>132</td>\n",
              "      <td>123</td>\n",
              "      <td>112</td>\n",
              "      <td>108</td>\n",
              "      <td>119</td>\n",
              "      <td>121</td>\n",
              "      <td>125</td>\n",
              "      <td>131</td>\n",
              "      <td>...</td>\n",
              "      <td>168</td>\n",
              "      <td>163</td>\n",
              "      <td>156</td>\n",
              "      <td>149</td>\n",
              "      <td>144</td>\n",
              "      <td>139</td>\n",
              "      <td>137</td>\n",
              "      <td>135</td>\n",
              "      <td>134</td>\n",
              "      <td>130</td>\n",
              "      <td>120</td>\n",
              "      <td>114</td>\n",
              "      <td>105</td>\n",
              "      <td>97</td>\n",
              "      <td>89</td>\n",
              "      <td>80</td>\n",
              "      <td>74</td>\n",
              "      <td>72</td>\n",
              "      <td>75</td>\n",
              "      <td>93</td>\n",
              "      <td>105</td>\n",
              "      <td>110</td>\n",
              "      <td>109</td>\n",
              "      <td>104</td>\n",
              "      <td>96</td>\n",
              "      <td>86</td>\n",
              "      <td>83</td>\n",
              "      <td>77</td>\n",
              "      <td>67</td>\n",
              "      <td>65</td>\n",
              "      <td>78</td>\n",
              "      <td>98</td>\n",
              "      <td>113</td>\n",
              "      <td>104</td>\n",
              "      <td>81</td>\n",
              "      <td>61</td>\n",
              "      <td>53</td>\n",
              "      <td>62</td>\n",
              "      <td>89</td>\n",
              "      <td>119</td>\n",
              "    </tr>\n",
              "    <tr>\n",
              "      <th>9402</th>\n",
              "      <td>female</td>\n",
              "      <td>25</td>\n",
              "      <td>22</td>\n",
              "      <td>16</td>\n",
              "      <td>14</td>\n",
              "      <td>18</td>\n",
              "      <td>22</td>\n",
              "      <td>16</td>\n",
              "      <td>10</td>\n",
              "      <td>16</td>\n",
              "      <td>22</td>\n",
              "      <td>26</td>\n",
              "      <td>26</td>\n",
              "      <td>22</td>\n",
              "      <td>20</td>\n",
              "      <td>16</td>\n",
              "      <td>16</td>\n",
              "      <td>20</td>\n",
              "      <td>20</td>\n",
              "      <td>16</td>\n",
              "      <td>20</td>\n",
              "      <td>19</td>\n",
              "      <td>15</td>\n",
              "      <td>13</td>\n",
              "      <td>13</td>\n",
              "      <td>14</td>\n",
              "      <td>13</td>\n",
              "      <td>13</td>\n",
              "      <td>17</td>\n",
              "      <td>16</td>\n",
              "      <td>14</td>\n",
              "      <td>14</td>\n",
              "      <td>15</td>\n",
              "      <td>19</td>\n",
              "      <td>22</td>\n",
              "      <td>21</td>\n",
              "      <td>22</td>\n",
              "      <td>24</td>\n",
              "      <td>27</td>\n",
              "      <td>30</td>\n",
              "      <td>...</td>\n",
              "      <td>169</td>\n",
              "      <td>169</td>\n",
              "      <td>169</td>\n",
              "      <td>169</td>\n",
              "      <td>170</td>\n",
              "      <td>171</td>\n",
              "      <td>173</td>\n",
              "      <td>174</td>\n",
              "      <td>173</td>\n",
              "      <td>173</td>\n",
              "      <td>172</td>\n",
              "      <td>169</td>\n",
              "      <td>162</td>\n",
              "      <td>154</td>\n",
              "      <td>146</td>\n",
              "      <td>115</td>\n",
              "      <td>62</td>\n",
              "      <td>30</td>\n",
              "      <td>33</td>\n",
              "      <td>23</td>\n",
              "      <td>25</td>\n",
              "      <td>21</td>\n",
              "      <td>17</td>\n",
              "      <td>18</td>\n",
              "      <td>16</td>\n",
              "      <td>11</td>\n",
              "      <td>24</td>\n",
              "      <td>28</td>\n",
              "      <td>15</td>\n",
              "      <td>17</td>\n",
              "      <td>20</td>\n",
              "      <td>19</td>\n",
              "      <td>24</td>\n",
              "      <td>24</td>\n",
              "      <td>31</td>\n",
              "      <td>33</td>\n",
              "      <td>26</td>\n",
              "      <td>19</td>\n",
              "      <td>22</td>\n",
              "      <td>31</td>\n",
              "    </tr>\n",
              "  </tbody>\n",
              "</table>\n",
              "<p>8889 rows × 10001 columns</p>\n",
              "</div>"
            ],
            "text/plain": [
              "      gender    0    1    2    3    4  ...  9994  9995  9996  9997  9998  9999\n",
              "0       male   13   12   11   10   10  ...     2     1     0     0     0     0\n",
              "1       male   36   31   28   29   26  ...    99    73    54    52    47    40\n",
              "2       male   16   16   16   16   15  ...    53    45    45    50    62    78\n",
              "3       male  158  151  152  155  155  ...   213   214   218   218   213   206\n",
              "4       male  138  138  141  144  144  ...     8     4     1     1     3     3\n",
              "...      ...  ...  ...  ...  ...  ...  ...   ...   ...   ...   ...   ...   ...\n",
              "9398  female  103  100  105  117  130  ...   159   166   162   154   143   124\n",
              "9399  female  123  116  118  111  101  ...   100   101    96    87    78    82\n",
              "9400  female    3   17   29   21   25  ...   147   160   168   197   215   234\n",
              "9401  female  166  168  179  191  195  ...    81    61    53    62    89   119\n",
              "9402  female   25   22   16   14   18  ...    31    33    26    19    22    31\n",
              "\n",
              "[8889 rows x 10001 columns]"
            ]
          },
          "metadata": {
            "tags": []
          },
          "execution_count": 40
        }
      ]
    },
    {
      "cell_type": "code",
      "metadata": {
        "colab": {
          "base_uri": "https://localhost:8080/",
          "height": 285
        },
        "id": "-jgenC3d7oYK",
        "outputId": "2d5512d4-37e8-4b62-c177-06681052c97d"
      },
      "source": [
        "pic = maindata.iloc[0][1:].astype(\"int\").values.reshape(100,100)\n",
        "\n",
        "plt.imshow(pic,cmap=\"gray\")\n"
      ],
      "execution_count": null,
      "outputs": [
        {
          "output_type": "execute_result",
          "data": {
            "text/plain": [
              "<matplotlib.image.AxesImage at 0x7f212a3e49b0>"
            ]
          },
          "metadata": {
            "tags": []
          },
          "execution_count": 63
        },
        {
          "output_type": "display_data",
          "data": {
            "image/png": "[encoded data removed]",
            "text/plain": [
              "<Figure size 432x288 with 1 Axes>"
            ]
          },
          "metadata": {
            "tags": [],
            "needs_background": "light"
          }
        }
      ]
    },
    {
      "cell_type": "code",
      "metadata": {
        "id": "t_7JZQxZ7wap"
      },
      "source": [
        ""
      ],
      "execution_count": null,
      "outputs": []
    },
    {
      "cell_type": "code",
      "metadata": {
        "colab": {
          "base_uri": "https://localhost:8080/",
          "height": 281
        },
        "id": "dTugmzQd9kPu",
        "outputId": "b7fc9bcf-3000-4068-c556-d54f21b1feec"
      },
      "source": [
        "eigen_image = x_pca_inverse[0,:]\n",
        "eigen_image = eigen_image.reshape(100,100)\n",
        "\n",
        "plt.figure(figsize=(10,4))\n",
        "plt.subplot(1,2,1)\n",
        "plt.title(\"Eigen image\")\n",
        "plt.imshow(eigen_image,cmap=\"gray\")\n",
        "\n",
        "pic = maindata.iloc[0][1:].astype(\"int\").values.reshape(100,100)\n",
        "\n",
        "plt.subplot(1,2,2)\n",
        "plt.title(\"Real  image\")\n",
        "plt.imshow(pic,cmap=\"gray\")\n",
        "\n",
        "plt.show()\n"
      ],
      "execution_count": null,
      "outputs": [
        {
          "output_type": "display_data",
          "data": {
            "image/png": "[encoded data removed]",
            "text/plain": [
              "<Figure size 720x288 with 2 Axes>"
            ]
          },
          "metadata": {
            "tags": [],
            "needs_background": "light"
          }
        }
      ]
    },
    {
      "cell_type": "code",
      "metadata": {
        "id": "5ULv_7Y39lTX"
      },
      "source": [
        "#saving the data"
      ],
      "execution_count": null,
      "outputs": []
    },
    {
      "cell_type": "code",
      "metadata": {
        "id": "SU5J8r9L-Yfg"
      },
      "source": [
        "np.savez(\"./dataset/data_pca50_y_mean.pickle\",x_pca_50,y,x.mean())"
      ],
      "execution_count": null,
      "outputs": []
    },
    {
      "cell_type": "code",
      "metadata": {
        "id": "v0zlYo3M-qkw"
      },
      "source": [
        ""
      ],
      "execution_count": null,
      "outputs": []
    }
  ]
}