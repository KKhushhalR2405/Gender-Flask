{
  "nbformat": 4,
  "nbformat_minor": 0,
  "metadata": {
    "colab": {
      "name": "svm_training.ipynb",
      "provenance": [],
      "collapsed_sections": [],
      "mount_file_id": "16fgH7RY9sywu0lhjmJZifDfV9VYQTJ2V",
      "authorship_tag": "ABX9TyP4ZDkaIaZz26+ju+7jhHLq",
      "include_colab_link": true
    },
    "kernelspec": {
      "name": "python3",
      "display_name": "Python 3"
    }
  },
  "cells": [
    {
      "cell_type": "markdown",
      "metadata": {
        "id": "view-in-github",
        "colab_type": "text"
      },
      "source": [
        "<a href=\"https://colab.research.google.com/github/KKhushhalR2405/Gender-Flask/blob/master/svm_training.ipynb\" target=\"_parent\"><img src=\"https://colab.research.google.com/assets/colab-badge.svg\" alt=\"Open In Colab\"/></a>"
      ]
    },
    {
      "cell_type": "code",
      "metadata": {
        "id": "xhXRq2D9_Tu4"
      },
      "source": [
        "import warnings\n",
        "warnings.filterwarnings(\"ignore\")\n",
        "import pandas as pd\n",
        "import numpy as np\n",
        "import matplotlib.pyplot as plt\n",
        "from sklearn.decomposition import PCA\n",
        "%matplotlib inline"
      ],
      "execution_count": 1,
      "outputs": []
    },
    {
      "cell_type": "code",
      "metadata": {
        "colab": {
          "base_uri": "https://localhost:8080/"
        },
        "id": "d4PwpeovcOgR",
        "outputId": "318afa65-c0f7-43a5-cb5e-6cbd5a8e0633"
      },
      "source": [
        "cd /content/drive/MyDrive/gender_flask"
      ],
      "execution_count": 3,
      "outputs": [
        {
          "output_type": "stream",
          "text": [
            "/content/drive/MyDrive/gender_flask\n"
          ],
          "name": "stdout"
        }
      ]
    },
    {
      "cell_type": "code",
      "metadata": {
        "id": "WZzUrvCWAF4F"
      },
      "source": [
        "data = np.load(\"/content/drive/MyDrive/gender_flask/dataset/data_pca50_y_mean.pickle.npz\")"
      ],
      "execution_count": 2,
      "outputs": []
    },
    {
      "cell_type": "code",
      "metadata": {
        "colab": {
          "base_uri": "https://localhost:8080/"
        },
        "id": "UO7gdwUdAsZ2",
        "outputId": "694d3a17-7b24-4755-bffe-35a924fa36fb"
      },
      "source": [
        "data.files"
      ],
      "execution_count": 4,
      "outputs": [
        {
          "output_type": "execute_result",
          "data": {
            "text/plain": [
              "['arr_0', 'arr_1', 'arr_2']"
            ]
          },
          "metadata": {
            "tags": []
          },
          "execution_count": 4
        }
      ]
    },
    {
      "cell_type": "code",
      "metadata": {
        "id": "VaTfq6FfAwH2"
      },
      "source": [
        "#arr0 = x_pca\n",
        "#arr1 = target\n",
        "#arr2 = mean"
      ],
      "execution_count": null,
      "outputs": []
    },
    {
      "cell_type": "code",
      "metadata": {
        "id": "QC718ObeBCc-"
      },
      "source": [
        "x = data[\"arr_0\"]\n",
        "y=data[\"arr_1\"]\n",
        "mean = data[\"arr_2\"]"
      ],
      "execution_count": 5,
      "outputs": []
    },
    {
      "cell_type": "code",
      "metadata": {
        "id": "lo6NsDVjcbTi"
      },
      "source": [
        "from sklearn.model_selection import train_test_split\n",
        "\n",
        "x_train, x_test, y_train, y_test = train_test_split(x,y,test_size=0.3,stratify=y,random_state=42) \n",
        "\n",
        "#y_train.shape"
      ],
      "execution_count": 41,
      "outputs": []
    },
    {
      "cell_type": "code",
      "metadata": {
        "id": "hxPn_eXkc729"
      },
      "source": [
        "from sklearn.svm import SVC\n",
        "s = SVC(C=1.0,kernel=\"rbf\",gamma=0.01,probability=True)\n"
      ],
      "execution_count": 42,
      "outputs": []
    },
    {
      "cell_type": "code",
      "metadata": {
        "colab": {
          "base_uri": "https://localhost:8080/"
        },
        "id": "PcoWw4ypddcV",
        "outputId": "23acfaef-34d1-438a-bd7f-831269122122"
      },
      "source": [
        "\n",
        "try:\n",
        "  s.fit(x_train,y_train)\n",
        "  print(\"Model trained\")\n",
        "except:\n",
        "  print(\"Error occured\")"
      ],
      "execution_count": 43,
      "outputs": [
        {
          "output_type": "stream",
          "text": [
            "Model trained\n"
          ],
          "name": "stdout"
        }
      ]
    },
    {
      "cell_type": "code",
      "metadata": {
        "colab": {
          "base_uri": "https://localhost:8080/"
        },
        "id": "-sWSZ5LPdtnR",
        "outputId": "9a48f02a-0689-4c54-999c-d0c6f844bb07"
      },
      "source": [
        "s.score(x_train,y_train)"
      ],
      "execution_count": 44,
      "outputs": [
        {
          "output_type": "execute_result",
          "data": {
            "text/plain": [
              "0.9252651880424301"
            ]
          },
          "metadata": {
            "tags": []
          },
          "execution_count": 44
        }
      ]
    },
    {
      "cell_type": "code",
      "metadata": {
        "colab": {
          "base_uri": "https://localhost:8080/"
        },
        "id": "k_CloFM8d4TP",
        "outputId": "87bd37b0-a77f-49cc-e304-af095e11cc21"
      },
      "source": [
        "s.score(x_test,y_test)"
      ],
      "execution_count": 45,
      "outputs": [
        {
          "output_type": "execute_result",
          "data": {
            "text/plain": [
              "0.8923884514435696"
            ]
          },
          "metadata": {
            "tags": []
          },
          "execution_count": 45
        }
      ]
    },
    {
      "cell_type": "markdown",
      "metadata": {
        "id": "QGbGgy47eOQC"
      },
      "source": [
        "Model Evaluation"
      ]
    },
    {
      "cell_type": "code",
      "metadata": {
        "id": "5O_ZW3Ded_nt"
      },
      "source": [
        "from sklearn import metrics"
      ],
      "execution_count": 46,
      "outputs": []
    },
    {
      "cell_type": "code",
      "metadata": {
        "id": "OCk5UnZ1evfI"
      },
      "source": [
        "y_pred = s.predict(x_test)\n",
        "y_prob = s.predict_proba(x_test)"
      ],
      "execution_count": 47,
      "outputs": []
    },
    {
      "cell_type": "code",
      "metadata": {
        "id": "b-O2l1yBhxwE"
      },
      "source": [
        ""
      ],
      "execution_count": 47,
      "outputs": []
    },
    {
      "cell_type": "code",
      "metadata": {
        "colab": {
          "base_uri": "https://localhost:8080/"
        },
        "id": "z-dAc5WlfSrV",
        "outputId": "5e76e5af-8768-4aac-8f09-4002a6922a2c"
      },
      "source": [
        "cm = metrics.confusion_matrix(y_test,y_pred)\n",
        "cm = np.concatenate((cm,cm.sum(axis=0).reshape(1,-1)),axis=0)\n",
        "cm = np.concatenate((cm,cm.sum(axis=1).reshape(-1,1)),axis=1)\n",
        "cm"
      ],
      "execution_count": 48,
      "outputs": [
        {
          "output_type": "execute_result",
          "data": {
            "text/plain": [
              "array([[1219,  137, 1356],\n",
              "       [ 150, 1161, 1311],\n",
              "       [1369, 1298, 2667]])"
            ]
          },
          "metadata": {
            "tags": []
          },
          "execution_count": 48
        }
      ]
    },
    {
      "cell_type": "code",
      "metadata": {
        "colab": {
          "base_uri": "https://localhost:8080/",
          "height": 265
        },
        "id": "Wc5Y9pC_hW4_",
        "outputId": "4c5c0cc0-87d5-4cd7-f325-b3bd59447c3a"
      },
      "source": [
        "plt.imshow(cm)\n",
        "for i in range(3):\n",
        "  for j in range(3):\n",
        "    plt.text(i,j,cm[i,j])\n",
        "\n",
        "plt.xticks([0,1])\n",
        "plt.yticks([0,1])\n",
        "plt.show()"
      ],
      "execution_count": 49,
      "outputs": [
        {
          "output_type": "display_data",
          "data": {
            "image/png": "[encoded data removed]",
            "text/plain": [
              "<Figure size 432x288 with 1 Axes>"
            ]
          },
          "metadata": {
            "tags": [],
            "needs_background": "light"
          }
        }
      ]
    },
    {
      "cell_type": "code",
      "metadata": {
        "id": "Aq01oFuliACK"
      },
      "source": [
        "#------------------##------------------#\n",
        "#------------------##------------------#\n",
        "#------------------##------------------#\n",
        "#------------------##------------------#"
      ],
      "execution_count": 50,
      "outputs": []
    },
    {
      "cell_type": "code",
      "metadata": {
        "colab": {
          "base_uri": "https://localhost:8080/",
          "height": 173
        },
        "id": "Qrf5pCt7jiCa",
        "outputId": "61a36028-0ae1-4c5f-967d-dd26ff7cc0fb"
      },
      "source": [
        "cr = metrics.classification_report(y_test,y_pred,target_names=[\"male\",\"female\"],output_dict=True)\n",
        "\n",
        "pd.DataFrame(cr)"
      ],
      "execution_count": 51,
      "outputs": [
        {
          "output_type": "execute_result",
          "data": {
            "text/html": [
              "<div>\n",
              "<style scoped>\n",
              "    .dataframe tbody tr th:only-of-type {\n",
              "        vertical-align: middle;\n",
              "    }\n",
              "\n",
              "    .dataframe tbody tr th {\n",
              "        vertical-align: top;\n",
              "    }\n",
              "\n",
              "    .dataframe thead th {\n",
              "        text-align: right;\n",
              "    }\n",
              "</style>\n",
              "<table border=\"1\" class=\"dataframe\">\n",
              "  <thead>\n",
              "    <tr style=\"text-align: right;\">\n",
              "      <th></th>\n",
              "      <th>male</th>\n",
              "      <th>female</th>\n",
              "      <th>accuracy</th>\n",
              "      <th>macro avg</th>\n",
              "      <th>weighted avg</th>\n",
              "    </tr>\n",
              "  </thead>\n",
              "  <tbody>\n",
              "    <tr>\n",
              "      <th>precision</th>\n",
              "      <td>0.890431</td>\n",
              "      <td>0.894453</td>\n",
              "      <td>0.892388</td>\n",
              "      <td>0.892442</td>\n",
              "      <td>0.892408</td>\n",
              "    </tr>\n",
              "    <tr>\n",
              "      <th>recall</th>\n",
              "      <td>0.898968</td>\n",
              "      <td>0.885584</td>\n",
              "      <td>0.892388</td>\n",
              "      <td>0.892276</td>\n",
              "      <td>0.892388</td>\n",
              "    </tr>\n",
              "    <tr>\n",
              "      <th>f1-score</th>\n",
              "      <td>0.894679</td>\n",
              "      <td>0.889996</td>\n",
              "      <td>0.892388</td>\n",
              "      <td>0.892338</td>\n",
              "      <td>0.892377</td>\n",
              "    </tr>\n",
              "    <tr>\n",
              "      <th>support</th>\n",
              "      <td>1356.000000</td>\n",
              "      <td>1311.000000</td>\n",
              "      <td>0.892388</td>\n",
              "      <td>2667.000000</td>\n",
              "      <td>2667.000000</td>\n",
              "    </tr>\n",
              "  </tbody>\n",
              "</table>\n",
              "</div>"
            ],
            "text/plain": [
              "                  male       female  accuracy    macro avg  weighted avg\n",
              "precision     0.890431     0.894453  0.892388     0.892442      0.892408\n",
              "recall        0.898968     0.885584  0.892388     0.892276      0.892388\n",
              "f1-score      0.894679     0.889996  0.892388     0.892338      0.892377\n",
              "support    1356.000000  1311.000000  0.892388  2667.000000   2667.000000"
            ]
          },
          "metadata": {
            "tags": []
          },
          "execution_count": 51
        }
      ]
    },
    {
      "cell_type": "code",
      "metadata": {
        "colab": {
          "base_uri": "https://localhost:8080/"
        },
        "id": "mC6-0zv1j8UD",
        "outputId": "1f06909b-b181-4508-b575-2ea1abf3e3ab"
      },
      "source": [
        "metrics.cohen_kappa_score(y_test,y_pred)\n"
      ],
      "execution_count": 52,
      "outputs": [
        {
          "output_type": "execute_result",
          "data": {
            "text/plain": [
              "0.7846801845480269"
            ]
          },
          "metadata": {
            "tags": []
          },
          "execution_count": 52
        }
      ]
    },
    {
      "cell_type": "code",
      "metadata": {
        "id": "-me_XtSeohSc"
      },
      "source": [
        "#----HEHE HEHE---#\n",
        "\n",
        "#kappa score = 0.78 (>50%)\n",
        "\n"
      ],
      "execution_count": 53,
      "outputs": []
    },
    {
      "cell_type": "code",
      "metadata": {
        "id": "ivWqGGyXrOg3"
      },
      "source": [
        ""
      ],
      "execution_count": null,
      "outputs": []
    }
  ]
}