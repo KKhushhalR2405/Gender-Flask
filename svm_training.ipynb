{
  "nbformat": 4,
  "nbformat_minor": 0,
  "metadata": {
    "colab": {
      "name": "svm_training.ipynb",
      "provenance": [],
      "collapsed_sections": [],
      "mount_file_id": "16fgH7RY9sywu0lhjmJZifDfV9VYQTJ2V",
      "authorship_tag": "ABX9TyNXxGvaENjQJ0+j6jFLc5X/",
      "include_colab_link": true
    },
    "kernelspec": {
      "name": "python3",
      "display_name": "Python 3"
    }
  },
  "cells": [
    {
      "cell_type": "markdown",
      "metadata": {
        "id": "view-in-github",
        "colab_type": "text"
      },
      "source": [
        "<a href=\"https://colab.research.google.com/github/KKhushhalR2405/Gender-Flask/blob/master/svm_training.ipynb\" target=\"_parent\"><img src=\"https://colab.research.google.com/assets/colab-badge.svg\" alt=\"Open In Colab\"/></a>"
      ]
    },
    {
      "cell_type": "code",
      "metadata": {
        "id": "xhXRq2D9_Tu4"
      },
      "source": [
        "import warnings\n",
        "warnings.filterwarnings(\"ignore\")\n",
        "import pandas as pd\n",
        "import numpy as np\n",
        "import matplotlib.pyplot as plt\n",
        "from sklearn.decomposition import PCA\n",
        "%matplotlib inline"
      ],
      "execution_count": 6,
      "outputs": []
    },
    {
      "cell_type": "code",
      "metadata": {
        "colab": {
          "base_uri": "https://localhost:8080/"
        },
        "id": "d4PwpeovcOgR",
        "outputId": "318afa65-c0f7-43a5-cb5e-6cbd5a8e0633"
      },
      "source": [
        "cd /content/drive/MyDrive/gender_flask"
      ],
      "execution_count": null,
      "outputs": [
        {
          "output_type": "stream",
          "text": [
            "/content/drive/MyDrive/gender_flask\n"
          ],
          "name": "stdout"
        }
      ]
    },
    {
      "cell_type": "code",
      "metadata": {
        "id": "WZzUrvCWAF4F"
      },
      "source": [
        "data = np.load(\"/content/drive/MyDrive/gender_flask/dataset/data_pca50_y_mean.pickle.npz\")"
      ],
      "execution_count": null,
      "outputs": []
    },
    {
      "cell_type": "code",
      "metadata": {
        "colab": {
          "base_uri": "https://localhost:8080/"
        },
        "id": "UO7gdwUdAsZ2",
        "outputId": "694d3a17-7b24-4755-bffe-35a924fa36fb"
      },
      "source": [
        "data.files"
      ],
      "execution_count": null,
      "outputs": [
        {
          "output_type": "execute_result",
          "data": {
            "text/plain": [
              "['arr_0', 'arr_1', 'arr_2']"
            ]
          },
          "metadata": {
            "tags": []
          },
          "execution_count": 4
        }
      ]
    },
    {
      "cell_type": "code",
      "metadata": {
        "id": "VaTfq6FfAwH2"
      },
      "source": [
        "#arr0 = x_pca\n",
        "#arr1 = target\n",
        "#arr2 = mean"
      ],
      "execution_count": null,
      "outputs": []
    },
    {
      "cell_type": "code",
      "metadata": {
        "id": "QC718ObeBCc-"
      },
      "source": [
        "x = data[\"arr_0\"]\n",
        "y=data[\"arr_1\"]\n",
        "mean = data[\"arr_2\"]"
      ],
      "execution_count": null,
      "outputs": []
    },
    {
      "cell_type": "code",
      "metadata": {
        "id": "lo6NsDVjcbTi"
      },
      "source": [
        "from sklearn.model_selection import train_test_split\n",
        "\n",
        "x_train, x_test, y_train, y_test = train_test_split(x,y,test_size=0.3,stratify=y,random_state=42) \n",
        "\n",
        "#y_train.shape"
      ],
      "execution_count": 26,
      "outputs": []
    },
    {
      "cell_type": "code",
      "metadata": {
        "id": "hxPn_eXkc729"
      },
      "source": [
        "from sklearn.svm import SVC\n",
        "s = SVC(C=1.0,kernel=\"rbf\",gamma=0.01,probability=True)\n"
      ],
      "execution_count": null,
      "outputs": []
    },
    {
      "cell_type": "code",
      "metadata": {
        "colab": {
          "base_uri": "https://localhost:8080/"
        },
        "id": "PcoWw4ypddcV",
        "outputId": "23acfaef-34d1-438a-bd7f-831269122122"
      },
      "source": [
        "\n",
        "try:\n",
        "  s.fit(x_train,y_train)\n",
        "  print(\"Model trained\")\n",
        "except:\n",
        "  print(\"Error occured\")"
      ],
      "execution_count": null,
      "outputs": [
        {
          "output_type": "stream",
          "text": [
            "Model trained\n"
          ],
          "name": "stdout"
        }
      ]
    },
    {
      "cell_type": "code",
      "metadata": {
        "colab": {
          "base_uri": "https://localhost:8080/"
        },
        "id": "-sWSZ5LPdtnR",
        "outputId": "9a48f02a-0689-4c54-999c-d0c6f844bb07"
      },
      "source": [
        "s.score(x_train,y_train)"
      ],
      "execution_count": null,
      "outputs": [
        {
          "output_type": "execute_result",
          "data": {
            "text/plain": [
              "0.9252651880424301"
            ]
          },
          "metadata": {
            "tags": []
          },
          "execution_count": 44
        }
      ]
    },
    {
      "cell_type": "code",
      "metadata": {
        "colab": {
          "base_uri": "https://localhost:8080/"
        },
        "id": "k_CloFM8d4TP",
        "outputId": "87bd37b0-a77f-49cc-e304-af095e11cc21"
      },
      "source": [
        "s.score(x_test,y_test)"
      ],
      "execution_count": null,
      "outputs": [
        {
          "output_type": "execute_result",
          "data": {
            "text/plain": [
              "0.8923884514435696"
            ]
          },
          "metadata": {
            "tags": []
          },
          "execution_count": 45
        }
      ]
    },
    {
      "cell_type": "markdown",
      "metadata": {
        "id": "QGbGgy47eOQC"
      },
      "source": [
        "Model Evaluation"
      ]
    },
    {
      "cell_type": "code",
      "metadata": {
        "id": "5O_ZW3Ded_nt"
      },
      "source": [
        "from sklearn import metrics"
      ],
      "execution_count": null,
      "outputs": []
    },
    {
      "cell_type": "code",
      "metadata": {
        "id": "OCk5UnZ1evfI"
      },
      "source": [
        "y_pred = s.predict(x_test)\n",
        "y_prob = s.predict_proba(x_test)"
      ],
      "execution_count": null,
      "outputs": []
    },
    {
      "cell_type": "code",
      "metadata": {
        "id": "b-O2l1yBhxwE"
      },
      "source": [
        ""
      ],
      "execution_count": null,
      "outputs": []
    },
    {
      "cell_type": "code",
      "metadata": {
        "colab": {
          "base_uri": "https://localhost:8080/"
        },
        "id": "z-dAc5WlfSrV",
        "outputId": "5e76e5af-8768-4aac-8f09-4002a6922a2c"
      },
      "source": [
        "cm = metrics.confusion_matrix(y_test,y_pred)\n",
        "cm = np.concatenate((cm,cm.sum(axis=0).reshape(1,-1)),axis=0)\n",
        "cm = np.concatenate((cm,cm.sum(axis=1).reshape(-1,1)),axis=1)\n",
        "cm"
      ],
      "execution_count": null,
      "outputs": [
        {
          "output_type": "execute_result",
          "data": {
            "text/plain": [
              "array([[1219,  137, 1356],\n",
              "       [ 150, 1161, 1311],\n",
              "       [1369, 1298, 2667]])"
            ]
          },
          "metadata": {
            "tags": []
          },
          "execution_count": 48
        }
      ]
    },
    {
      "cell_type": "code",
      "metadata": {
        "colab": {
          "base_uri": "https://localhost:8080/",
          "height": 265
        },
        "id": "Wc5Y9pC_hW4_",
        "outputId": "4c5c0cc0-87d5-4cd7-f325-b3bd59447c3a"
      },
      "source": [
        "plt.imshow(cm)\n",
        "for i in range(3):\n",
        "  for j in range(3):\n",
        "    plt.text(i,j,cm[i,j])\n",
        "\n",
        "plt.xticks([0,1])\n",
        "plt.yticks([0,1])\n",
        "plt.show()"
      ],
      "execution_count": null,
      "outputs": [
        {
          "output_type": "display_data",
          "data": {
            "image/png": "[encoded data removed]",
            "text/plain": [
              "<Figure size 432x288 with 1 Axes>"
            ]
          },
          "metadata": {
            "tags": [],
            "needs_background": "light"
          }
        }
      ]
    },
    {
      "cell_type": "code",
      "metadata": {
        "id": "Aq01oFuliACK"
      },
      "source": [
        "#------------------##------------------#\n",
        "#------------------##------------------#\n",
        "#------------------##------------------#\n",
        "#------------------##------------------#"
      ],
      "execution_count": null,
      "outputs": []
    },
    {
      "cell_type": "code",
      "metadata": {
        "colab": {
          "base_uri": "https://localhost:8080/",
          "height": 173
        },
        "id": "Qrf5pCt7jiCa",
        "outputId": "61a36028-0ae1-4c5f-967d-dd26ff7cc0fb"
      },
      "source": [
        "cr = metrics.classification_report(y_test,y_pred,target_names=[\"male\",\"female\"],output_dict=True)\n",
        "\n",
        "pd.DataFrame(cr)"
      ],
      "execution_count": null,
      "outputs": [
        {
          "output_type": "execute_result",
          "data": {
            "text/html": [
              "<div>\n",
              "<style scoped>\n",
              "    .dataframe tbody tr th:only-of-type {\n",
              "        vertical-align: middle;\n",
              "    }\n",
              "\n",
              "    .dataframe tbody tr th {\n",
              "        vertical-align: top;\n",
              "    }\n",
              "\n",
              "    .dataframe thead th {\n",
              "        text-align: right;\n",
              "    }\n",
              "</style>\n",
              "<table border=\"1\" class=\"dataframe\">\n",
              "  <thead>\n",
              "    <tr style=\"text-align: right;\">\n",
              "      <th></th>\n",
              "      <th>male</th>\n",
              "      <th>female</th>\n",
              "      <th>accuracy</th>\n",
              "      <th>macro avg</th>\n",
              "      <th>weighted avg</th>\n",
              "    </tr>\n",
              "  </thead>\n",
              "  <tbody>\n",
              "    <tr>\n",
              "      <th>precision</th>\n",
              "      <td>0.890431</td>\n",
              "      <td>0.894453</td>\n",
              "      <td>0.892388</td>\n",
              "      <td>0.892442</td>\n",
              "      <td>0.892408</td>\n",
              "    </tr>\n",
              "    <tr>\n",
              "      <th>recall</th>\n",
              "      <td>0.898968</td>\n",
              "      <td>0.885584</td>\n",
              "      <td>0.892388</td>\n",
              "      <td>0.892276</td>\n",
              "      <td>0.892388</td>\n",
              "    </tr>\n",
              "    <tr>\n",
              "      <th>f1-score</th>\n",
              "      <td>0.894679</td>\n",
              "      <td>0.889996</td>\n",
              "      <td>0.892388</td>\n",
              "      <td>0.892338</td>\n",
              "      <td>0.892377</td>\n",
              "    </tr>\n",
              "    <tr>\n",
              "      <th>support</th>\n",
              "      <td>1356.000000</td>\n",
              "      <td>1311.000000</td>\n",
              "      <td>0.892388</td>\n",
              "      <td>2667.000000</td>\n",
              "      <td>2667.000000</td>\n",
              "    </tr>\n",
              "  </tbody>\n",
              "</table>\n",
              "</div>"
            ],
            "text/plain": [
              "                  male       female  accuracy    macro avg  weighted avg\n",
              "precision     0.890431     0.894453  0.892388     0.892442      0.892408\n",
              "recall        0.898968     0.885584  0.892388     0.892276      0.892388\n",
              "f1-score      0.894679     0.889996  0.892388     0.892338      0.892377\n",
              "support    1356.000000  1311.000000  0.892388  2667.000000   2667.000000"
            ]
          },
          "metadata": {
            "tags": []
          },
          "execution_count": 51
        }
      ]
    },
    {
      "cell_type": "code",
      "metadata": {
        "colab": {
          "base_uri": "https://localhost:8080/"
        },
        "id": "mC6-0zv1j8UD",
        "outputId": "1f06909b-b181-4508-b575-2ea1abf3e3ab"
      },
      "source": [
        "metrics.cohen_kappa_score(y_test,y_pred)\n"
      ],
      "execution_count": null,
      "outputs": [
        {
          "output_type": "execute_result",
          "data": {
            "text/plain": [
              "0.7846801845480269"
            ]
          },
          "metadata": {
            "tags": []
          },
          "execution_count": 52
        }
      ]
    },
    {
      "cell_type": "code",
      "metadata": {
        "id": "-me_XtSeohSc"
      },
      "source": [
        "#----HEHE HEHE---#\n",
        "\n",
        "#kappa score = 0.78 (>50%)\n",
        "\n"
      ],
      "execution_count": null,
      "outputs": []
    },
    {
      "cell_type": "markdown",
      "metadata": {
        "id": "Zfl4RlZgkL0U"
      },
      "source": [
        "HyperParameter Tuning  :P"
      ]
    },
    {
      "cell_type": "code",
      "metadata": {
        "id": "ivWqGGyXrOg3"
      },
      "source": [
        "from sklearn.svm import SVC\n"
      ],
      "execution_count": 1,
      "outputs": []
    },
    {
      "cell_type": "code",
      "metadata": {
        "id": "KcIwJ4ELlayi"
      },
      "source": [
        "data = np.load(\"/content/drive/MyDrive/gender_flask/dataset/data_pca50_y_mean.pickle.npz\")\n",
        "x = data[\"arr_0\"]\n",
        "y=data[\"arr_1\"]\n",
        "mean = data[\"arr_2\"]"
      ],
      "execution_count": 7,
      "outputs": []
    },
    {
      "cell_type": "code",
      "metadata": {
        "id": "gwrIBbJvkWUR"
      },
      "source": [
        "model_tune = SVC()\n",
        "param = {\"C\":[1,10,20,30,50,100],\n",
        "         \"kernel\" : [\"rbf\",\"poly\"],\n",
        "         \"gamma\":[0.1,0.05,0.01,0.001,0.002,0.005],\n",
        "         \"coef0\":[0],\n",
        "         }"
      ],
      "execution_count": 17,
      "outputs": []
    },
    {
      "cell_type": "code",
      "metadata": {
        "id": "KI1JVFKIkbJ2"
      },
      "source": [
        "from sklearn.model_selection import GridSearchCV"
      ],
      "execution_count": 4,
      "outputs": []
    },
    {
      "cell_type": "code",
      "metadata": {
        "id": "b4ygSnZAkibH"
      },
      "source": [
        "model_grid = GridSearchCV(model_tune,param_grid=param,scoring=\"accuracy\",cv=5,verbose=True)"
      ],
      "execution_count": 19,
      "outputs": []
    },
    {
      "cell_type": "code",
      "metadata": {
        "colab": {
          "base_uri": "https://localhost:8080/"
        },
        "id": "lk2EHCrP1lRt",
        "outputId": "c5613b9c-4f0a-47c4-8523-013452d18a82"
      },
      "source": [
        "model_grid.fit(x,y)"
      ],
      "execution_count": 20,
      "outputs": [
        {
          "output_type": "stream",
          "text": [
            "Fitting 5 folds for each of 72 candidates, totalling 360 fits\n"
          ],
          "name": "stdout"
        },
        {
          "output_type": "stream",
          "text": [
            "[Parallel(n_jobs=1)]: Using backend SequentialBackend with 1 concurrent workers.\n",
            "[Parallel(n_jobs=1)]: Done 360 out of 360 | elapsed: 25.2min finished\n"
          ],
          "name": "stderr"
        },
        {
          "output_type": "execute_result",
          "data": {
            "text/plain": [
              "GridSearchCV(cv=5, error_score=nan,\n",
              "             estimator=SVC(C=1.0, break_ties=False, cache_size=200,\n",
              "                           class_weight=None, coef0=0.0,\n",
              "                           decision_function_shape='ovr', degree=3,\n",
              "                           gamma='scale', kernel='rbf', max_iter=-1,\n",
              "                           probability=False, random_state=None, shrinking=True,\n",
              "                           tol=0.001, verbose=False),\n",
              "             iid='deprecated', n_jobs=None,\n",
              "             param_grid={'C': [1, 10, 20, 30, 50, 100], 'coef0': [0],\n",
              "                         'gamma': [0.1, 0.05, 0.01, 0.001, 0.002, 0.005],\n",
              "                         'kernel': ['rbf', 'poly']},\n",
              "             pre_dispatch='2*n_jobs', refit=True, return_train_score=False,\n",
              "             scoring='accuracy', verbose=True)"
            ]
          },
          "metadata": {
            "tags": []
          },
          "execution_count": 20
        }
      ]
    },
    {
      "cell_type": "code",
      "metadata": {
        "colab": {
          "base_uri": "https://localhost:8080/"
        },
        "id": "3iUz5MGP1o60",
        "outputId": "c561feee-d87d-4e8b-df9c-fd1101e3089f"
      },
      "source": [
        "model_grid.best_index_"
      ],
      "execution_count": 21,
      "outputs": [
        {
          "output_type": "execute_result",
          "data": {
            "text/plain": [
              "22"
            ]
          },
          "metadata": {
            "tags": []
          },
          "execution_count": 21
        }
      ]
    },
    {
      "cell_type": "code",
      "metadata": {
        "colab": {
          "base_uri": "https://localhost:8080/"
        },
        "id": "tmBn3nTu-WrS",
        "outputId": "8ccb75d4-f96a-40a5-9e65-cd23ea2d194f"
      },
      "source": [
        "model_grid.best_params_"
      ],
      "execution_count": 22,
      "outputs": [
        {
          "output_type": "execute_result",
          "data": {
            "text/plain": [
              "{'C': 10, 'coef0': 0, 'gamma': 0.005, 'kernel': 'rbf'}"
            ]
          },
          "metadata": {
            "tags": []
          },
          "execution_count": 22
        }
      ]
    },
    {
      "cell_type": "code",
      "metadata": {
        "colab": {
          "base_uri": "https://localhost:8080/"
        },
        "id": "7QPwZbHN-fHO",
        "outputId": "657c2703-57a7-4b50-f03e-3ddd967d9c11"
      },
      "source": [
        "model_grid.best_score_"
      ],
      "execution_count": 23,
      "outputs": [
        {
          "output_type": "execute_result",
          "data": {
            "text/plain": [
              "0.9042635779137624"
            ]
          },
          "metadata": {
            "tags": []
          },
          "execution_count": 23
        }
      ]
    },
    {
      "cell_type": "code",
      "metadata": {
        "id": "Y-LD_5UQ-k7H"
      },
      "source": [
        "#----#\n",
        "#Training the final model\n",
        "#----#"
      ],
      "execution_count": 24,
      "outputs": []
    },
    {
      "cell_type": "code",
      "metadata": {
        "id": "tAuSwTLF-5se"
      },
      "source": [
        "final = SVC(C=30,coef0=0,gamma=0.005,kernel=\"rbf\")"
      ],
      "execution_count": 25,
      "outputs": []
    },
    {
      "cell_type": "code",
      "metadata": {
        "colab": {
          "base_uri": "https://localhost:8080/"
        },
        "id": "AGMXMd11_FRl",
        "outputId": "78f2e422-98a6-432b-bfc8-e16693c33d70"
      },
      "source": [
        "final.fit(x_train,y_train)\n",
        "final.score(x_test,y_test)"
      ],
      "execution_count": 27,
      "outputs": [
        {
          "output_type": "execute_result",
          "data": {
            "text/plain": [
              "0.9043869516310461"
            ]
          },
          "metadata": {
            "tags": []
          },
          "execution_count": 27
        }
      ]
    },
    {
      "cell_type": "code",
      "metadata": {
        "id": "pGiuUv_j_W8m"
      },
      "source": [
        ""
      ],
      "execution_count": null,
      "outputs": []
    },
    {
      "cell_type": "code",
      "metadata": {
        "id": "2GAsNHBh_xST"
      },
      "source": [
        "from sklearn import metrics"
      ],
      "execution_count": 28,
      "outputs": []
    },
    {
      "cell_type": "code",
      "metadata": {
        "id": "n1l6f0KQ_xSV"
      },
      "source": [
        "y_pred = final.predict(x_test)\n"
      ],
      "execution_count": 30,
      "outputs": []
    },
    {
      "cell_type": "code",
      "metadata": {
        "colab": {
          "base_uri": "https://localhost:8080/"
        },
        "id": "NmAgvL3C_xSV",
        "outputId": "3ac34782-9d7d-44dd-b787-9632ebaa4a70"
      },
      "source": [
        "cm = metrics.confusion_matrix(y_test,y_pred)\n",
        "cm = np.concatenate((cm,cm.sum(axis=0).reshape(1,-1)),axis=0)\n",
        "cm = np.concatenate((cm,cm.sum(axis=1).reshape(-1,1)),axis=1)\n",
        "cm"
      ],
      "execution_count": 31,
      "outputs": [
        {
          "output_type": "execute_result",
          "data": {
            "text/plain": [
              "array([[1230,  126, 1356],\n",
              "       [ 129, 1182, 1311],\n",
              "       [1359, 1308, 2667]])"
            ]
          },
          "metadata": {
            "tags": []
          },
          "execution_count": 31
        }
      ]
    },
    {
      "cell_type": "code",
      "metadata": {
        "colab": {
          "base_uri": "https://localhost:8080/",
          "height": 265
        },
        "id": "NJopItua_xSY",
        "outputId": "37025eca-0833-4190-eebf-fd795f051ebd"
      },
      "source": [
        "plt.imshow(cm)\n",
        "for i in range(3):\n",
        "  for j in range(3):\n",
        "    plt.text(i,j,cm[i,j])\n",
        "\n",
        "plt.xticks([0,1])\n",
        "plt.yticks([0,1])\n",
        "plt.show()"
      ],
      "execution_count": 32,
      "outputs": [
        {
          "output_type": "display_data",
          "data": {
            "image/png": "[encoded data removed]",
            "text/plain": [
              "<Figure size 432x288 with 1 Axes>"
            ]
          },
          "metadata": {
            "tags": [],
            "needs_background": "light"
          }
        }
      ]
    },
    {
      "cell_type": "code",
      "metadata": {
        "colab": {
          "base_uri": "https://localhost:8080/",
          "height": 173
        },
        "id": "VgDoklbB_xSY",
        "outputId": "e7e47bd9-a5d0-4e94-efaf-868eaba44d0b"
      },
      "source": [
        "cr = metrics.classification_report(y_test,y_pred,target_names=[\"male\",\"female\"],output_dict=True)\n",
        "\n",
        "pd.DataFrame(cr)"
      ],
      "execution_count": 33,
      "outputs": [
        {
          "output_type": "execute_result",
          "data": {
            "text/html": [
              "<div>\n",
              "<style scoped>\n",
              "    .dataframe tbody tr th:only-of-type {\n",
              "        vertical-align: middle;\n",
              "    }\n",
              "\n",
              "    .dataframe tbody tr th {\n",
              "        vertical-align: top;\n",
              "    }\n",
              "\n",
              "    .dataframe thead th {\n",
              "        text-align: right;\n",
              "    }\n",
              "</style>\n",
              "<table border=\"1\" class=\"dataframe\">\n",
              "  <thead>\n",
              "    <tr style=\"text-align: right;\">\n",
              "      <th></th>\n",
              "      <th>male</th>\n",
              "      <th>female</th>\n",
              "      <th>accuracy</th>\n",
              "      <th>macro avg</th>\n",
              "      <th>weighted avg</th>\n",
              "    </tr>\n",
              "  </thead>\n",
              "  <tbody>\n",
              "    <tr>\n",
              "      <th>precision</th>\n",
              "      <td>0.905077</td>\n",
              "      <td>0.903670</td>\n",
              "      <td>0.904387</td>\n",
              "      <td>0.904373</td>\n",
              "      <td>0.904385</td>\n",
              "    </tr>\n",
              "    <tr>\n",
              "      <th>recall</th>\n",
              "      <td>0.907080</td>\n",
              "      <td>0.901602</td>\n",
              "      <td>0.904387</td>\n",
              "      <td>0.904341</td>\n",
              "      <td>0.904387</td>\n",
              "    </tr>\n",
              "    <tr>\n",
              "      <th>f1-score</th>\n",
              "      <td>0.906077</td>\n",
              "      <td>0.902635</td>\n",
              "      <td>0.904387</td>\n",
              "      <td>0.904356</td>\n",
              "      <td>0.904385</td>\n",
              "    </tr>\n",
              "    <tr>\n",
              "      <th>support</th>\n",
              "      <td>1356.000000</td>\n",
              "      <td>1311.000000</td>\n",
              "      <td>0.904387</td>\n",
              "      <td>2667.000000</td>\n",
              "      <td>2667.000000</td>\n",
              "    </tr>\n",
              "  </tbody>\n",
              "</table>\n",
              "</div>"
            ],
            "text/plain": [
              "                  male       female  accuracy    macro avg  weighted avg\n",
              "precision     0.905077     0.903670  0.904387     0.904373      0.904385\n",
              "recall        0.907080     0.901602  0.904387     0.904341      0.904387\n",
              "f1-score      0.906077     0.902635  0.904387     0.904356      0.904385\n",
              "support    1356.000000  1311.000000  0.904387  2667.000000   2667.000000"
            ]
          },
          "metadata": {
            "tags": []
          },
          "execution_count": 33
        }
      ]
    },
    {
      "cell_type": "code",
      "metadata": {
        "colab": {
          "base_uri": "https://localhost:8080/"
        },
        "id": "LOODtWvq_xSZ",
        "outputId": "9ddb59bd-b6cb-423b-970b-0d6bde14620c"
      },
      "source": [
        "metrics.cohen_kappa_score(y_test,y_pred)\n"
      ],
      "execution_count": 34,
      "outputs": [
        {
          "output_type": "execute_result",
          "data": {
            "text/plain": [
              "0.8087121835390967"
            ]
          },
          "metadata": {
            "tags": []
          },
          "execution_count": 34
        }
      ]
    },
    {
      "cell_type": "code",
      "metadata": {
        "id": "o_VgCoIUACri"
      },
      "source": [
        "#final kappa score = 80%\n",
        "\n",
        "#huehuehue"
      ],
      "execution_count": 35,
      "outputs": []
    },
    {
      "cell_type": "code",
      "metadata": {
        "colab": {
          "base_uri": "https://localhost:8080/"
        },
        "id": "ujQ1JOIDAIKG",
        "outputId": "7400ce8f-eeda-4604-8572-ab26ac3e1571"
      },
      "source": [
        "!pwd"
      ],
      "execution_count": 36,
      "outputs": [
        {
          "output_type": "stream",
          "text": [
            "/content\n"
          ],
          "name": "stdout"
        }
      ]
    },
    {
      "cell_type": "code",
      "metadata": {
        "colab": {
          "base_uri": "https://localhost:8080/"
        },
        "id": "60m-uZ1TAOd1",
        "outputId": "213692ae-fa9e-4a5c-e4f8-a5e428654475"
      },
      "source": [
        "cd /content/drive/MyDrive/gender_flask"
      ],
      "execution_count": 37,
      "outputs": [
        {
          "output_type": "stream",
          "text": [
            "/content/drive/MyDrive/gender_flask\n"
          ],
          "name": "stdout"
        }
      ]
    },
    {
      "cell_type": "code",
      "metadata": {
        "id": "LdWW3EiQATie"
      },
      "source": [
        "import pickle"
      ],
      "execution_count": 39,
      "outputs": []
    },
    {
      "cell_type": "code",
      "metadata": {
        "id": "vO_p-UhtAVLt"
      },
      "source": [
        "pickle.dump(final,open(\"./dataset/finalmodel.pkl\",\"wb\"))"
      ],
      "execution_count": 41,
      "outputs": []
    },
    {
      "cell_type": "code",
      "metadata": {
        "id": "VRJGZiUhAmHU"
      },
      "source": [
        "pickle.dump(mean,open(\"./dataset/ppmean.pkl\",\"wb\"))"
      ],
      "execution_count": 42,
      "outputs": []
    },
    {
      "cell_type": "code",
      "metadata": {
        "id": "iQgFjEFSBDhR"
      },
      "source": [
        ""
      ],
      "execution_count": null,
      "outputs": []
    }
  ]
}